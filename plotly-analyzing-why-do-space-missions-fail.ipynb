{
 "cells": [
  {
   "cell_type": "markdown",
   "metadata": {
    "papermill": {
     "duration": 0.045234,
     "end_time": "2023-08-17T05:24:06.743115",
     "exception": false,
     "start_time": "2023-08-17T05:24:06.697881",
     "status": "completed"
    },
    "tags": []
   },
   "source": [
    "<body>\n",
    "    <center><h1 style=\"color:#FF0000\";>Why do some Space Missions Fail?</h1></center>\n",
    "    <center><h3> A Detailed Analysis on what factors contribute to failures </h3></center>\n",
    "  <img src = https://worldwarwings.com/wp-content/uploads/2017/09/SpaceXplosions-735x413.jpg>\n",
    "</body>"
   ]
  },
  {
   "cell_type": "markdown",
   "metadata": {
    "papermill": {
     "duration": 0.043664,
     "end_time": "2023-08-17T05:24:06.832664",
     "exception": false,
     "start_time": "2023-08-17T05:24:06.789000",
     "status": "completed"
    },
    "tags": []
   },
   "source": [
    "<div class=\"alert alert-block alert-info\">\n",
    "    <b>Note:</b> <p>Welcome to this notebook! Please be patient while the visualizations load.\n",
    "</div>"
   ]
  },
  {
   "cell_type": "markdown",
   "metadata": {
    "papermill": {
     "duration": null,
     "end_time": null,
     "exception": null,
     "start_time": null,
     "status": "pending"
    },
    "tags": []
   },
   "source": [
    "# <center> ToC - What you can expect going forward</center>\n",
    "\n",
    "- [An overview of the data](#data)\n",
    "- [Analyzing how does the Launch Location Effect Space Missions](#lauloc)\n",
    "- [What effect does the company undetaking the mission have on the Space Mission](#company)\n",
    "- [Do Launch Vehicles have any impact?](#vehicle)\n",
    "- [The most important factor - Time of Launch](#time)\n",
    "- [Stonks or Stonksn't - Cost of Space Mission](#cost)\n",
    "- [Modeling and Feature Importances](#models)"
   ]
  },
  {
   "cell_type": "markdown",
   "metadata": {
    "papermill": {
     "duration": null,
     "end_time": null,
     "exception": null,
     "start_time": null,
     "status": "pending"
    },
    "tags": []
   },
   "source": [
    "<a id = \"data\"></a>\n",
    "# The Data"
   ]
  },
  {
   "cell_type": "code",
   "execution_count": null,
   "metadata": {
    "_kg_hide-input": true,
    "papermill": {
     "duration": null,
     "end_time": null,
     "exception": null,
     "start_time": null,
     "status": "pending"
    },
    "tags": []
   },
   "outputs": [],
   "source": [
    "df = pd.read_csv('../input/all-space-missions-from-1957/Space_Corrected.csv')\n",
    "df.drop(['Unnamed: 0.1','Unnamed: 0'], axis = 1, inplace = True)\n",
    "df.head()"
   ]
  },
  {
   "cell_type": "markdown",
   "metadata": {
    "papermill": {
     "duration": null,
     "end_time": null,
     "exception": null,
     "start_time": null,
     "status": "pending"
    },
    "tags": []
   },
   "source": [
    "The dataset has 7 Different Columns\n",
    "- **Company Name** - The name of the company that undertook the space mission\n",
    "- **Location** - The location of launch\n",
    "- **Datum** - The date and time of the launch\n",
    "- **Detail** - The Name of the Launch Vehicles\n",
    "- **Status Rocket** - The current status of the rocket\n",
    "- **Rocket** - The cost (in $ millions) of the mission\n",
    "- **Status Mission** - The status, Success or Failure of the Launch"
   ]
  },
  {
   "cell_type": "code",
   "execution_count": null,
   "metadata": {
    "_kg_hide-input": true,
    "papermill": {
     "duration": null,
     "end_time": null,
     "exception": null,
     "start_time": null,
     "status": "pending"
    },
    "tags": []
   },
   "outputs": [],
   "source": [
    "#function to extract the name of the country from the location\n",
    "def extract_country_name(location):\n",
    "    country = location.split(',')[-1]\n",
    "    country = country.strip()\n",
    "    return country\n",
    "\n",
    "#dictionary to help in mapping to get consistent and correct Country Names\n",
    "countries_dict = {\n",
    "    'Russia' : 'Russian Federation',\n",
    "    'New Mexico' : 'USA',\n",
    "    \"Yellow Sea\": 'China',\n",
    "    \"Shahrud Missile Test Site\": \"Iran\",\n",
    "    \"Pacific Missile Range Facility\": 'USA',\n",
    "    \"Barents Sea\": 'Russian Federation',\n",
    "    \"Gran Canaria\": 'USA'\n",
    "}"
   ]
  },
  {
   "cell_type": "code",
   "execution_count": null,
   "metadata": {
    "_kg_hide-input": true,
    "papermill": {
     "duration": null,
     "end_time": null,
     "exception": null,
     "start_time": null,
     "status": "pending"
    },
    "tags": []
   },
   "outputs": [],
   "source": [
    "df['Country'] = df['Location'].apply(lambda x: extract_country_name(x))\n",
    "df['Country'] = df['Country'].replace(countries_dict)"
   ]
  },
  {
   "cell_type": "code",
   "execution_count": null,
   "metadata": {
    "_kg_hide-input": true,
    "papermill": {
     "duration": null,
     "end_time": null,
     "exception": null,
     "start_time": null,
     "status": "pending"
    },
    "tags": []
   },
   "outputs": [],
   "source": [
    "#extracting date-time features\n",
    "df['Datum'] = pd.to_datetime(df['Datum'])\n",
    "df['year'] = df['Datum'].apply(lambda datetime: datetime.year)\n",
    "df['month'] = df['Datum'].apply(lambda datetime: datetime.month)\n",
    "df['weekday'] = df['Datum'].apply(lambda datetime: datetime.weekday())"
   ]
  },
  {
   "cell_type": "code",
   "execution_count": null,
   "metadata": {
    "_kg_hide-input": true,
    "papermill": {
     "duration": null,
     "end_time": null,
     "exception": null,
     "start_time": null,
     "status": "pending"
    },
    "tags": []
   },
   "outputs": [],
   "source": [
    "#function to get the Launch Vehicle Name from the Details\n",
    "def getVehicles(detail):\n",
    "    lv = []\n",
    "    li = [x.strip() for x in detail.split('|')] #extracting the name of all launch vehicles from the Details section\n",
    "    for ele in li:\n",
    "        if('Cosmos' in ele):\n",
    "            lv.append('Cosmos')\n",
    "        elif('Vostok' in ele):\n",
    "            lv.append('Vostok')\n",
    "        elif('Tsyklon' in ele):\n",
    "            lv.append('Tsyklon')\n",
    "        elif('Ariane' in ele):\n",
    "            lv.append('Ariane')\n",
    "        elif('Atlas' in ele):\n",
    "            lv.append('Atlas')\n",
    "        elif('Soyuz' in ele):\n",
    "            lv.append('Soyuz')\n",
    "        elif('Delta' in ele):\n",
    "            lv.append('Delta')\n",
    "        elif('Titan' in ele):\n",
    "            lv.append('Titan')\n",
    "        elif('Molniya' in ele):\n",
    "            lv.append('Molniya')\n",
    "        elif('Zenit' in ele):\n",
    "            lv.append('Zenit')\n",
    "        elif('Falcon' in ele):\n",
    "            lv.append('Falcon')\n",
    "        elif('Long March' in ele):\n",
    "            lv.append('Long March')\n",
    "        elif('PSLV' in ele):\n",
    "            lv.append('PSLV')\n",
    "        elif('GSLV' in ele):\n",
    "            lv.append('GSLV')\n",
    "        elif('Thor' in ele):\n",
    "            lv.append('Thor')\n",
    "        else:\n",
    "            lv.append('Other')\n",
    "    return lv\n",
    "df['Launch Vehicles'] = df['Detail'].apply(lambda x:getVehicles(x))"
   ]
  },
  {
   "cell_type": "markdown",
   "metadata": {
    "papermill": {
     "duration": null,
     "end_time": null,
     "exception": null,
     "start_time": null,
     "status": "pending"
    },
    "tags": []
   },
   "source": [
    "Since we are analyzing the reason why some space missions fail, let us first see the distribution of Status Mission. \n",
    "We can see that a large number(89.71%) of Space Missions are a Success and 7.84% of the Missions are a Failure. These 7.84% cases are the most important for our analysis."
   ]
  },
  {
   "cell_type": "code",
   "execution_count": null,
   "metadata": {
    "_kg_hide-input": true,
    "_kg_hide-output": false,
    "papermill": {
     "duration": null,
     "end_time": null,
     "exception": null,
     "start_time": null,
     "status": "pending"
    },
    "tags": []
   },
   "outputs": [],
   "source": [
    "#creating a waffle Chart using pywaffle\n",
    "plt.rcParams['figure.figsize'] = (7,12)\n",
    "data = dict(df['Status Mission'].value_counts(normalize = True) * 100)\n",
    "fig = plt.figure(\n",
    "    FigureClass=Waffle, \n",
    "    columns=10, \n",
    "    values=data, \n",
    "    colors=(\"#3bff3b\", \"#ff3b3b\", \"#ffff3b\",\"#ff9d3b\"),\n",
    "    title={'label': 'Status of Space Missions', 'loc': 'center'},\n",
    "    icons = 'rocket',\n",
    "    icon_size = 20,\n",
    "    labels=[f\"{k} ({v:.2f}%)\" for k, v in data.items()],\n",
    "    legend={'loc': 'lower left', 'bbox_to_anchor': (0, -0.4), 'ncol': len(data), 'framealpha': 0.3}\n",
    ")\n",
    "plt.show()"
   ]
  },
  {
   "cell_type": "markdown",
   "metadata": {
    "papermill": {
     "duration": null,
     "end_time": null,
     "exception": null,
     "start_time": null,
     "status": "pending"
    },
    "tags": []
   },
   "source": [
    "<a id = \"lauloc\"></a>\n",
    "# Analyzing effect of Launch Location"
   ]
  },
  {
   "cell_type": "code",
   "execution_count": null,
   "metadata": {
    "_kg_hide-input": true,
    "papermill": {
     "duration": null,
     "end_time": null,
     "exception": null,
     "start_time": null,
     "status": "pending"
    },
    "tags": []
   },
   "outputs": [],
   "source": [
    "country_counts = dict(df['Country'].value_counts())\n",
    "fig = go.Figure(data=[go.Table(\n",
    "    header=dict(values=['<b>Country Name</b>', '<b>Number of Space Missions</b>'],\n",
    "                line_color='black',\n",
    "                fill_color='darkorange',\n",
    "                align='left',\n",
    "                font=dict(color='black', size=14)),\n",
    "    cells=dict(values=[list(country_counts.keys()),\n",
    "                      list(country_counts.values())],\n",
    "               line_color='black',\n",
    "               fill_color='white',\n",
    "               align='left',\n",
    "               font=dict(color='black', size=13)))\n",
    "])\n",
    "\n",
    "fig.update_layout(width=500, height=450,margin=dict(l=80, r=80, t=25, b=10),\n",
    "                  title = { 'text' : '<b>Number of Space Missions Per Launch Location</b>', 'x' : 0.95},\n",
    "                 font_family = 'Fira Code',title_font_color= '#ff0d00')\n",
    "fig.show()"
   ]
  },
  {
   "cell_type": "markdown",
   "metadata": {
    "papermill": {
     "duration": null,
     "end_time": null,
     "exception": null,
     "start_time": null,
     "status": "pending"
    },
    "tags": []
   },
   "source": [
    "We see that a large number of Space Missions launch from Russia and USA. A lot of this has been because of the Space Race between the two countries.  \n",
    "Here's an intro to the Space Race taken from [Wikipedia](https://en.wikipedia.org/wiki/Space_Race)\n",
    "> The Space Race was a 20th-century competition between two Cold War rivals, the Soviet Union (USSR) and the United States (US), to achieve firsts in spaceflight capability. It had its origins in the ballistic missile-based nuclear arms race between the two nations following World War II. The technological advantage required to rapidly achieve spaceflight milestones was seen as necessary for national security, and mixed with the symbolism and ideology of the time. The Space Race led to pioneering efforts to launch artificial satellites, uncrewed space probes of the Moon, Venus, and Mars, and human spaceflight in low Earth orbit and to the Moon.\n",
    "\n",
    "> The competition began in earnest on August 2, 1955, when the Soviet Union responded to the US announcement four days earlier of intent to launch artificial satellites for the International Geophysical Year, by declaring they would also launch a satellite \"in the near future\". The Soviet Union achieved the first successful launch with the October 4, 1957, orbiting of Sputnik 1, and sent the first human to space with the orbital flight of Yuri Gagarin on April 12, 1961. The USSR also sent the first woman, Valentina Tereshkova, to space on June 16, 1963, with numerous other firsts taking place over the next few years with regards to flight duration, spacewalks and related activities. According to Russian sources, these achievements led to the conclusion that the USSR had an advantage in space technology in the early 1960s."
   ]
  },
  {
   "cell_type": "code",
   "execution_count": null,
   "metadata": {
    "_kg_hide-input": true,
    "papermill": {
     "duration": null,
     "end_time": null,
     "exception": null,
     "start_time": null,
     "status": "pending"
    },
    "tags": []
   },
   "outputs": [],
   "source": [
    "from sklearn.preprocessing import LabelEncoder\n",
    "encoder = LabelEncoder()\n",
    "encoder.fit(df['Status Mission'])\n",
    "colors = {0 : 'red', 1 : 'Orange', 2 : 'Yellow', 3 : 'Green'}"
   ]
  },
  {
   "cell_type": "markdown",
   "metadata": {
    "papermill": {
     "duration": null,
     "end_time": null,
     "exception": null,
     "start_time": null,
     "status": "pending"
    },
    "tags": []
   },
   "source": [
    "Now let us see the success and failure percentages of space missions for each of these countries going with the assumption that the Launch Location relates to the Country that was behind the Space Mission, that is to say that if the Launch Location is India, then we can think that all the ergonomics related to the mission were handled by India."
   ]
  },
  {
   "cell_type": "code",
   "execution_count": null,
   "metadata": {
    "_kg_hide-input": true,
    "papermill": {
     "duration": null,
     "end_time": null,
     "exception": null,
     "start_time": null,
     "status": "pending"
    },
    "tags": []
   },
   "outputs": [],
   "source": [
    "fig = make_subplots(rows = 4 ,cols = 4,subplot_titles=df['Country'].unique())\n",
    "for i, country in enumerate(df['Country'].unique()):\n",
    "    counts = df[df['Country'] == country]['Status Mission'].value_counts(normalize = True) * 100\n",
    "    color = [colors[x] for x in encoder.transform(counts.index)]\n",
    "    trace = go.Bar(x = counts.index, y = counts.values, name = country,showlegend=False,marker={'color' : color})\n",
    "    fig.add_trace(trace, row = (i//4)+1, col = (i%4)+1)\n",
    "fig.update_layout(template = 'plotly_dark',margin=dict(l=80, r=80, t=50, b=10),\n",
    "                  title = { 'text' : '<b>Countries and Mission Status</b>', 'x' : 0.5},\n",
    "                 font_family = 'Fira Code',title_font_color= '#cacaca',height = 1000,width = 1100)\n",
    "for i in range(1,5):\n",
    "    fig.update_yaxes(title_text = 'Percentage',row = i, col = 1)\n",
    "fig.show()"
   ]
  },
  {
   "cell_type": "markdown",
   "metadata": {
    "papermill": {
     "duration": null,
     "end_time": null,
     "exception": null,
     "start_time": null,
     "status": "pending"
    },
    "tags": []
   },
   "source": [
    "### We see that in terms of Success Percentages :\n",
    "1. Kenya ranks first with a **100% success rate**. Kenya has made 9 Space Missions and all of them are Successful. \n",
    "2. France with 303 space missions comes in second with a Success percent of 94%\n",
    "3. Russia with 1398 Space Missions comes at a close 3rd with a Success rate of 93.34%. Now that's something. In comparison to Launches taking place in USA, Russia fares better as US missions have a Success rate of around 88%\n",
    "\n",
    "### In terms of Failure rate:  \n",
    "1. Brazil and South Korea have a similar failure rate of 66.67%, i.e 2/3rd of their space missions fail. \n",
    "    * It should be noted that South Korea has a Success rate of 33%, while **Brazil is yet to make a successful Space mission.** \n",
    "    * These are not disheartening results,as both South Korea and Brazil have only made 3 Space Mission attempts.\n",
    "2. Next, we have North Korea with a Failure rate of 60% in its 5 space missions.\n",
    "3. Iran has a Failure rate of about 57%. It has however, undertaken only 14 space missions. "
   ]
  },
  {
   "cell_type": "code",
   "execution_count": null,
   "metadata": {
    "_kg_hide-input": true,
    "papermill": {
     "duration": null,
     "end_time": null,
     "exception": null,
     "start_time": null,
     "status": "pending"
    },
    "tags": []
   },
   "outputs": [],
   "source": [
    "fig = px.sunburst(df,path = ['Status Mission','Country'])\n",
    "fig.update_layout(margin=dict(l=80, r=80, t=25, b=10),\n",
    "                  title = { 'text' : '<b>Countries and Mission Status</b>', 'x' : 0.5},\n",
    "                 font_family = 'Fira Code',title_font_color= '#8000ff')\n",
    "fig.show()"
   ]
  },
  {
   "cell_type": "markdown",
   "metadata": {
    "papermill": {
     "duration": null,
     "end_time": null,
     "exception": null,
     "start_time": null,
     "status": "pending"
    },
    "tags": []
   },
   "source": [
    "<a id = \"company\"></a>\n",
    "# Analyzing effect of Company"
   ]
  },
  {
   "cell_type": "code",
   "execution_count": null,
   "metadata": {
    "_kg_hide-input": true,
    "papermill": {
     "duration": null,
     "end_time": null,
     "exception": null,
     "start_time": null,
     "status": "pending"
    },
    "tags": []
   },
   "outputs": [],
   "source": [
    "successPerc = df[df['Status Mission'] == 'Success'].groupby('Company Name')['Status Mission'].count()\n",
    "for company in successPerc.index:\n",
    "    successPerc[company] = (successPerc[company] / len(df[df['Company Name'] == company]))*100\n",
    "successPerc = successPerc.sort_index()\n",
    "FailurePerc = df[df['Status Mission'] == 'Failure'].groupby('Company Name')['Status Mission'].count()\n",
    "for company in FailurePerc.index:\n",
    "    FailurePerc[company] = (FailurePerc[company] / len(df[df['Company Name'] == company]))*100\n",
    "FailurePerc = FailurePerc.sort_index()"
   ]
  },
  {
   "cell_type": "code",
   "execution_count": null,
   "metadata": {
    "_kg_hide-input": true,
    "papermill": {
     "duration": null,
     "end_time": null,
     "exception": null,
     "start_time": null,
     "status": "pending"
    },
    "tags": []
   },
   "outputs": [],
   "source": [
    "trace1 = go.Bar(x = successPerc.index, y = successPerc.values, name = 'Success Rate of Companies',opacity=0.7)\n",
    "trace2 = go.Bar(x = FailurePerc.index, y = FailurePerc.values, name = 'Failure Rate of Companies',opacity=0.7)\n",
    "fig = go.Figure([trace1,trace2])\n",
    "fig.update_layout(template = 'plotly_white',margin=dict(l=80, r=80, t=25, b=10),\n",
    "                  title = {'text' : '<b>Success and Failure Rates of Companies</b>', 'x' : 0.5},\n",
    "                 font_family = 'Fira Code',title_font_color= '#8000ff',width = 1000,yaxis_title = '<b>Percentage</b>',xaxis_title = '<b>Companies</b>',\n",
    "                 legend=dict(\n",
    "                    yanchor=\"top\",\n",
    "                    y=0.99,\n",
    "                    xanchor=\"left\",\n",
    "                    x=0.01\n",
    "))\n",
    "\n",
    "fig.show()"
   ]
  },
  {
   "cell_type": "markdown",
   "metadata": {
    "papermill": {
     "duration": null,
     "end_time": null,
     "exception": null,
     "start_time": null,
     "status": "pending"
    },
    "tags": []
   },
   "source": [
    "We measure the Success and Failure Rate of Each company. \n",
    "\n",
    "Success Rate highlights:\n",
    "* Companies like ASI,Blue Origin,Douglas, IRGC,Khrunichev, OKB-586,Starsem, Yuzhmash and i-Space have a **100% success rate.** \n",
    "\n",
    "Failure Rate highlights\n",
    "* Companies like EER, Landspace, OneSpace, Sandia and Virgin Orbit have a **100% failure rate**, i.e they haven't had any successful space mission. "
   ]
  },
  {
   "cell_type": "code",
   "execution_count": null,
   "metadata": {
    "_kg_hide-input": true,
    "papermill": {
     "duration": null,
     "end_time": null,
     "exception": null,
     "start_time": null,
     "status": "pending"
    },
    "tags": []
   },
   "outputs": [],
   "source": [
    "fig = px.treemap(df,path = ['Status Mission','Country','Company Name'])\n",
    "fig.update_layout(template = 'ggplot2',margin=dict(l=80, r=80, t=50, b=10),\n",
    "                  title = { 'text' : '<b>Mission Status,Countries and Companies</b>', 'x' : 0.5},\n",
    "                 font_family = 'Fira Code',title_font_color= '#ff6767')\n",
    "fig.show()"
   ]
  },
  {
   "cell_type": "markdown",
   "metadata": {
    "papermill": {
     "duration": null,
     "end_time": null,
     "exception": null,
     "start_time": null,
     "status": "pending"
    },
    "tags": []
   },
   "source": [
    "### **Important Thing to Note**\n",
    "From the above treemap, I was immediately interested in seeing **'RVSN USSR' having Launch Locations in both Kazakhstan and Russia.** \n",
    "After a bit of Googling and looking at the data, I found about the Baikonur Cosmodrome. Here's a piece from its wikipedia page:\n",
    "> The Baikonur Cosmodrome is a spaceport located in an area of southern Kazakhstan leased to Russia.\n",
    "\n",
    ">(...) **The spaceport is currently leased by the Kazakh Government to Russia until 2050, and is managed jointly by the Roscosmos State Corporation and the Russian Aerospace Forces.**\n",
    "\n",
    "That ought to explain the reason why we use RVSN USSR entries in both Space Missions launched in Kazakhstan and Russia."
   ]
  },
  {
   "cell_type": "markdown",
   "metadata": {
    "papermill": {
     "duration": null,
     "end_time": null,
     "exception": null,
     "start_time": null,
     "status": "pending"
    },
    "tags": []
   },
   "source": [
    "<a id = \"vehicle\"></a>\n",
    "# Effect of Launch Vehicle"
   ]
  },
  {
   "cell_type": "markdown",
   "metadata": {
    "papermill": {
     "duration": null,
     "end_time": null,
     "exception": null,
     "start_time": null,
     "status": "pending"
    },
    "tags": []
   },
   "source": [
    "Here I am focusing on only a few prominent Launch Vehicles extracted from the Detail column of the dataset. We club together various versions of the Launch Vehicle like Cosmos 897, Cosmos 578 and Cosmos 1803 under the name of Cosmos. I am only taking into consideration 15 different Launch Vehicles and all the others are clubbed under the group of 'Others'"
   ]
  },
  {
   "cell_type": "code",
   "execution_count": null,
   "metadata": {
    "_kg_hide-input": true,
    "papermill": {
     "duration": null,
     "end_time": null,
     "exception": null,
     "start_time": null,
     "status": "pending"
    },
    "tags": []
   },
   "outputs": [],
   "source": [
    "# creating a single list containing the names of the Launch Vehicles\n",
    "details = []\n",
    "for detail in df.Detail.values:\n",
    "    d = [x.strip() for x in detail.split('|')]\n",
    "    for ele in d:\n",
    "        if('Cosmos' in ele):\n",
    "            details.append('Cosmos')\n",
    "        elif('Vostok' in ele):\n",
    "            details.append('Vostok')\n",
    "        elif('Tsyklon' in ele):\n",
    "            details.append('Tsyklon')\n",
    "        elif('Ariane' in ele):\n",
    "            details.append('Ariane')\n",
    "        elif('Atlas' in ele):\n",
    "            details.append('Atlas')\n",
    "        elif('Soyuz' in ele):\n",
    "            details.append('Soyuz')\n",
    "        elif('Delta' in ele):\n",
    "            details.append('Delta')\n",
    "        elif('Titan' in ele):\n",
    "            details.append('Titan')\n",
    "        elif('Molniya' in ele):\n",
    "            details.append('Molniya')\n",
    "        elif('Zenit' in ele):\n",
    "            details.append('Zenit')\n",
    "        elif('Falcon' in ele):\n",
    "            details.append('Falcon')\n",
    "        elif('Long March' in ele):\n",
    "            details.append('Long March')\n",
    "        elif('PSLV' in ele):\n",
    "            details.append('PSLV')\n",
    "        elif('GSLV' in ele):\n",
    "            details.append('GSLV')\n",
    "        elif('Thor' in ele):\n",
    "            details.append('Thor')\n",
    "        else:\n",
    "            details.append('Other')"
   ]
  },
  {
   "cell_type": "code",
   "execution_count": null,
   "metadata": {
    "_kg_hide-input": true,
    "papermill": {
     "duration": null,
     "end_time": null,
     "exception": null,
     "start_time": null,
     "status": "pending"
    },
    "tags": []
   },
   "outputs": [],
   "source": [
    "counts = dict(pd.Series(details).value_counts(sort = True))\n",
    "fig = go.Figure(go.Bar(x = list(counts.keys()), y = list(counts.values())))\n",
    "fig.update_layout(template = 'ggplot2',margin=dict(l=80, r=80, t=50, b=10),\n",
    "                  title = { 'text' : '<b>Number of Missions in each type of Launch Vehicle</b>', 'x' : 0.5},\n",
    "                 font_family = 'Fira Code',title_font_color= '#ff3434',\n",
    "                 yaxis_title = '<b>Number of Missions</b>',xaxis_title = '<b>Launch Vehicle</b>',)\n",
    "fig.show()"
   ]
  },
  {
   "cell_type": "markdown",
   "metadata": {
    "papermill": {
     "duration": null,
     "end_time": null,
     "exception": null,
     "start_time": null,
     "status": "pending"
    },
    "tags": []
   },
   "source": [
    "<a id = \"time\"></a>\n",
    "# Analyzing the Effect of Launch Time"
   ]
  },
  {
   "cell_type": "markdown",
   "metadata": {
    "papermill": {
     "duration": null,
     "end_time": null,
     "exception": null,
     "start_time": null,
     "status": "pending"
    },
    "tags": []
   },
   "source": [
    "Now let us shift focus to analyszing the trend of failure in Space missions over time. "
   ]
  },
  {
   "cell_type": "code",
   "execution_count": null,
   "metadata": {
    "_kg_hide-input": true,
    "papermill": {
     "duration": null,
     "end_time": null,
     "exception": null,
     "start_time": null,
     "status": "pending"
    },
    "tags": []
   },
   "outputs": [],
   "source": [
    "fig = make_subplots(rows = 3, cols = 1)\n",
    "for i, period in enumerate(['year', 'month', 'weekday']):\n",
    "    data = df[df['Status Mission'] == 'Failure'][period].value_counts().sort_index()\n",
    "    data = dict((data / df[period].value_counts().sort_index())*100.0)\n",
    "    mean = sum(data.values()) / len(data)\n",
    "    if(period == 'year'):\n",
    "        x = list(data.keys())\n",
    "    elif(period == 'month'):\n",
    "        x = ['January', 'February', 'March', 'April', 'May','June', 'July', 'August','September','October', 'November', 'December']\n",
    "    else:\n",
    "        x = ['Monday', 'Tuesday', 'Wednesday','Thursday','Friday','Saturday','Sunday']\n",
    "    trace1 = go.Scatter(x = x, y = list(data.values()),mode = 'lines',text = list(data.keys()),name = f'Failures in each {period}',connectgaps = False)\n",
    "    trace2 = go.Scatter(x = x, y = [mean]*len(data), mode = 'lines',showlegend=False,name = f'Mean failures over the {period}s',line = {'dash':'dash','color':\n",
    "                                                                                                                                       'grey'})\n",
    "    fig.append_trace(trace1, row = i+1, col = 1)\n",
    "    fig.append_trace(trace2, row = i+1, col = 1)\n",
    "fig.update_layout(template = 'simple_white',height = 600,\n",
    "                  title = { 'text' : '<b>Failed Missions as a percentage of total missions in that period</b>', 'x' : 0.5})\n",
    "for i in range(1,4):\n",
    "    fig.update_yaxes(title_text = '<b>Percentage</b>',row = i, col = 1)\n",
    "fig.show()"
   ]
  },
  {
   "cell_type": "markdown",
   "metadata": {
    "papermill": {
     "duration": null,
     "end_time": null,
     "exception": null,
     "start_time": null,
     "status": "pending"
    },
    "tags": []
   },
   "source": [
    "* **The overall percentage of failed missions has reduced over the years.** While in the early years we had failure rates as high as 60-70% the failure rate in 2018 is only around 1.7% and in 2019 it is about 5.5%. \n",
    "    * Clearly as the field of Space Exploration has evolved and as we have newer and more advanced technologies, the chances of failure have reduced. \n",
    "* **The mean failure rate over this time period is 9.6%. **\n",
    "* Going over the monthly trends of failures, we see that **Space Missions Launched on November have the highest chance of failure followed by February.** \n",
    "* **December has the least failure rate of 5.78%**\n",
    "* While weekly trend doesn't actually make sense (unless you are superstitious), but it was interesting to see that Wednesday could be termed as the safest day of the week in terms of Space Mission Launches."
   ]
  },
  {
   "cell_type": "markdown",
   "metadata": {
    "papermill": {
     "duration": null,
     "end_time": null,
     "exception": null,
     "start_time": null,
     "status": "pending"
    },
    "tags": []
   },
   "source": [
    "<a id = \"cost\"></a>\n",
    "# Analyzing the effect of Mission Cost"
   ]
  },
  {
   "cell_type": "code",
   "execution_count": null,
   "metadata": {
    "_kg_hide-input": true,
    "papermill": {
     "duration": null,
     "end_time": null,
     "exception": null,
     "start_time": null,
     "status": "pending"
    },
    "tags": []
   },
   "outputs": [],
   "source": [
    "df[' Rocket'] = df[' Rocket'].apply(lambda x: str(x).replace(',',''))\n",
    "df[' Rocket'] = df[' Rocket'].astype('float64')\n",
    "df[' Rocket'] = df[' Rocket'].fillna(0)"
   ]
  },
  {
   "cell_type": "code",
   "execution_count": null,
   "metadata": {
    "_kg_hide-input": true,
    "papermill": {
     "duration": null,
     "end_time": null,
     "exception": null,
     "start_time": null,
     "status": "pending"
    },
    "tags": []
   },
   "outputs": [],
   "source": [
    "costDict = dict(df[df[' Rocket'] > 0].groupby('year')[' Rocket'].mean())\n",
    "fig = go.Figure(go.Scatter(x = list(costDict.keys()), y = list(costDict.values()), yaxis = 'y2',mode = 'lines',showlegend=False,name = 'Average Mission Cost Over the years'))\n",
    "fig.update_layout(template = 'plotly_dark',margin=dict(l=80, r=80, t=50, b=10),\n",
    "                  title = { 'text' : '<b>Average Mission Cost Over the years</b>', 'x' : 0.5},\n",
    "                 font_family = 'Fira Code',title_font_color= '#cacaca',\n",
    "                 yaxis_title = '<b>Cost of Mission in Million Dollars</b>',xaxis_title = '<b>Year of Launch</b>',)\n",
    "fig.show()"
   ]
  },
  {
   "cell_type": "markdown",
   "metadata": {
    "papermill": {
     "duration": null,
     "end_time": null,
     "exception": null,
     "start_time": null,
     "status": "pending"
    },
    "tags": []
   },
   "source": [
    "We see that overtime, **the average mission cost has decreased** since 1987. However, as seen earlier, the failure rate of Space Missions has decreased over time. Thus, one thing in clear, **as the technology has advanced, we have been able to do space missions at a lower cost and with lower failure rates.** \n",
    "\n",
    "The reason why we see a very high spike in 1987 is because of a **Space Mission by RVSN USSR that has an estimated cost of 5000 million dollars.** Now, that's a lotta money! This skewed the data a lot as most other space missions of that year did not have any Mission Cost listed in the dataset. "
   ]
  },
  {
   "cell_type": "code",
   "execution_count": null,
   "metadata": {
    "_kg_hide-input": true,
    "papermill": {
     "duration": null,
     "end_time": null,
     "exception": null,
     "start_time": null,
     "status": "pending"
    },
    "tags": []
   },
   "outputs": [],
   "source": [
    "fig = px.scatter(df[df[' Rocket'].between(1,4999)],x = 'year', y = 'Country', color = 'Status Mission',size = ' Rocket', size_max=30)\n",
    "fig.update_layout(template = 'simple_white',margin=dict(l=80, r=80, t=50, b=10),\n",
    "                  title = { 'text' : '<b>Average Mission Cost Over the years For Various Countries</b>', 'x' : 0.5},\n",
    "                 font_family = 'Fira Code',title_font_color= '#00b300')\n",
    "fig.show()"
   ]
  },
  {
   "cell_type": "markdown",
   "metadata": {
    "papermill": {
     "duration": null,
     "end_time": null,
     "exception": null,
     "start_time": null,
     "status": "pending"
    },
    "tags": []
   },
   "source": [
    "One important trend that we see is that the USA has managed to lower it's cost of Space Missions over time. "
   ]
  },
  {
   "cell_type": "code",
   "execution_count": null,
   "metadata": {
    "_kg_hide-input": true,
    "papermill": {
     "duration": null,
     "end_time": null,
     "exception": null,
     "start_time": null,
     "status": "pending"
    },
    "tags": []
   },
   "outputs": [],
   "source": [
    "fig = px.scatter(df[df[' Rocket'].between(1,4999)],x = 'year', y = 'Company Name',color = 'Status Mission',size = ' Rocket',size_max = 30)\n",
    "fig.update_layout(template = 'simple_white',margin=dict(l=80, r=80, t=50, b=10),\n",
    "                  title = { 'text' : '<b>Average Mission Cost Over the years For Various Companies</b>', 'x' : 0.5},\n",
    "                 font_family = 'Fira Code',title_font_color= '#00b300',height = 650)\n",
    "fig.show()"
   ]
  },
  {
   "cell_type": "markdown",
   "metadata": {
    "papermill": {
     "duration": null,
     "end_time": null,
     "exception": null,
     "start_time": null,
     "status": "pending"
    },
    "tags": []
   },
   "source": [
    "The previous result of USA reducing the average mission cost over years is also confirmed here from the results shown from NASA. \n",
    "\n",
    "Another thing that I found particularly interesting is that the earlier SpaceX missions were unsuccessful and they had markedly low mission cost as compared to their later Space Missions. Thus, **increasing the budget that they allocate for each space mission helped them become more Successful.**"
   ]
  },
  {
   "cell_type": "markdown",
   "metadata": {
    "papermill": {
     "duration": null,
     "end_time": null,
     "exception": null,
     "start_time": null,
     "status": "pending"
    },
    "tags": []
   },
   "source": [
    "<a id = \"models\"></a>\n",
    "# Finding Most Important Factors For Predicting Mission Status"
   ]
  },
  {
   "cell_type": "code",
   "execution_count": null,
   "metadata": {
    "_kg_hide-input": true,
    "papermill": {
     "duration": null,
     "end_time": null,
     "exception": null,
     "start_time": null,
     "status": "pending"
    },
    "tags": []
   },
   "outputs": [],
   "source": [
    "df['Target'] = (~(df['Status Mission'] == 'Success')).astype('int32')"
   ]
  },
  {
   "cell_type": "code",
   "execution_count": null,
   "metadata": {
    "_kg_hide-input": true,
    "_kg_hide-output": true,
    "papermill": {
     "duration": null,
     "end_time": null,
     "exception": null,
     "start_time": null,
     "status": "pending"
    },
    "tags": []
   },
   "outputs": [],
   "source": [
    "X = df[['Company Name',' Rocket','Country', 'year', 'month', 'weekday']]\n",
    "encoder = LabelEncoder()\n",
    "X.loc[:,'Company Name'] = encoder.fit_transform(X['Company Name'])\n",
    "X.loc[:,'Country'] = encoder.fit_transform(X['Country'])\n",
    "y = df['Target']"
   ]
  },
  {
   "cell_type": "code",
   "execution_count": null,
   "metadata": {
    "_kg_hide-input": true,
    "papermill": {
     "duration": null,
     "end_time": null,
     "exception": null,
     "start_time": null,
     "status": "pending"
    },
    "tags": []
   },
   "outputs": [],
   "source": [
    "X_train, X_test, y_train, y_test = train_test_split(X, y, test_size=0.2, random_state=0,stratify = y)"
   ]
  },
  {
   "cell_type": "markdown",
   "metadata": {
    "papermill": {
     "duration": null,
     "end_time": null,
     "exception": null,
     "start_time": null,
     "status": "pending"
    },
    "tags": []
   },
   "source": [
    "For the purpose of finding the most important features that could help us predict the mission status, we train a XGBoost Classifier model on the dataset.  "
   ]
  },
  {
   "cell_type": "code",
   "execution_count": null,
   "metadata": {
    "_kg_hide-input": true,
    "_kg_hide-output": true,
    "papermill": {
     "duration": null,
     "end_time": null,
     "exception": null,
     "start_time": null,
     "status": "pending"
    },
    "tags": []
   },
   "outputs": [],
   "source": [
    "classifier_xgb = xgb.XGBClassifier(random_state = 0, n_jobs = -1,max_depth = 5)\n",
    "classifier_xgb.fit(X_train,y_train)"
   ]
  },
  {
   "cell_type": "markdown",
   "metadata": {
    "papermill": {
     "duration": null,
     "end_time": null,
     "exception": null,
     "start_time": null,
     "status": "pending"
    },
    "tags": []
   },
   "source": [
    "## Model Performance"
   ]
  },
  {
   "cell_type": "markdown",
   "metadata": {
    "papermill": {
     "duration": null,
     "end_time": null,
     "exception": null,
     "start_time": null,
     "status": "pending"
    },
    "tags": []
   },
   "source": [
    "Without any hyperparameter tuning, I train the model using the following features : \n",
    "- Company Name\n",
    "- Location of Launch\n",
    "- Rocket, i.e the cost of the mission\n",
    "- Country \n",
    "- year of launch\n",
    "- month of launch\n",
    "- weekday of launch\n",
    "\n",
    "The objective is to predict the target column, which in this case is the Status of the Mission. Care should be taken that in order to make things easier, I consider any mission that was not a Success as a failure,i.e, **partial failures and prelaunch failures are just failures in our eyes.**"
   ]
  },
  {
   "cell_type": "markdown",
   "metadata": {
    "papermill": {
     "duration": null,
     "end_time": null,
     "exception": null,
     "start_time": null,
     "status": "pending"
    },
    "tags": []
   },
   "source": [
    "### XGBoost"
   ]
  },
  {
   "cell_type": "code",
   "execution_count": null,
   "metadata": {
    "_kg_hide-input": true,
    "papermill": {
     "duration": null,
     "end_time": null,
     "exception": null,
     "start_time": null,
     "status": "pending"
    },
    "tags": []
   },
   "outputs": [],
   "source": [
    "print(f'Training Accuracy is {accuracy_score(y_train, classifier_xgb.predict(X_train))*100:.2f}%')\n",
    "print(f'Testing Accuracy is {accuracy_score(y_test, classifier_xgb.predict(X_test))*100:.2f}%')"
   ]
  },
  {
   "cell_type": "markdown",
   "metadata": {
    "papermill": {
     "duration": null,
     "end_time": null,
     "exception": null,
     "start_time": null,
     "status": "pending"
    },
    "tags": []
   },
   "source": [
    "We train the classifier on the train set and make predictions on the test set which is 20% of the total data.\n",
    "\n",
    "This simple XGBoost Model gives a baseline **accuracy of 93% on the train set and 89% on the test set.**"
   ]
  },
  {
   "cell_type": "code",
   "execution_count": null,
   "metadata": {
    "_kg_hide-input": true,
    "papermill": {
     "duration": null,
     "end_time": null,
     "exception": null,
     "start_time": null,
     "status": "pending"
    },
    "tags": []
   },
   "outputs": [],
   "source": [
    "feature_importance_xgb = classifier_xgb.get_booster().get_fscore()"
   ]
  },
  {
   "cell_type": "code",
   "execution_count": null,
   "metadata": {
    "_kg_hide-input": true,
    "papermill": {
     "duration": null,
     "end_time": null,
     "exception": null,
     "start_time": null,
     "status": "pending"
    },
    "tags": []
   },
   "outputs": [],
   "source": [
    "trace = go.Bar(x = list(feature_importance_xgb.values()), y = list(feature_importance_xgb.keys()),orientation='h')\n",
    "fig = go.Figure([trace])\n",
    "fig.update_layout(template = 'simple_white',margin=dict(l=80, r=80, t=50, b=10),\n",
    "                  title = { 'text' : '<b>Feature Importance</b>', 'x' : 0.5},\n",
    "                 font_family = 'Fira Code',title_font_color= '#00b300',\n",
    "                 yaxis_title = '<b>Features</b>',xaxis_title = '<b>F Score</b>')\n",
    "\n",
    "iplot(fig)"
   ]
  },
  {
   "cell_type": "markdown",
   "metadata": {
    "papermill": {
     "duration": null,
     "end_time": null,
     "exception": null,
     "start_time": null,
     "status": "pending"
    },
    "tags": []
   },
   "source": [
    "As seen from this feature importance graph, we see that the **Year in which the space mission was launched has the greatest impact in predicting the status of the mission.** Followed by the month in which the mission was launched. "
   ]
  },
  {
   "cell_type": "markdown",
   "metadata": {
    "papermill": {
     "duration": null,
     "end_time": null,
     "exception": null,
     "start_time": null,
     "status": "pending"
    },
    "tags": []
   },
   "source": [
    "### RandomForest"
   ]
  },
  {
   "cell_type": "code",
   "execution_count": null,
   "metadata": {
    "_kg_hide-input": true,
    "_kg_hide-output": true,
    "papermill": {
     "duration": null,
     "end_time": null,
     "exception": null,
     "start_time": null,
     "status": "pending"
    },
    "tags": []
   },
   "outputs": [],
   "source": [
    "classifier_rf = RandomForestClassifier(random_state = 0, n_jobs = -1,max_depth = 5)\n",
    "classifier_rf.fit(X_train,y_train)"
   ]
  },
  {
   "cell_type": "code",
   "execution_count": null,
   "metadata": {
    "_kg_hide-input": true,
    "papermill": {
     "duration": null,
     "end_time": null,
     "exception": null,
     "start_time": null,
     "status": "pending"
    },
    "tags": []
   },
   "outputs": [],
   "source": [
    "print(f'Training Accuracy is {accuracy_score(y_train, classifier_rf.predict(X_train))*100:.2f}%')\n",
    "print(f'Testing Accuracy is {accuracy_score(y_test, classifier_rf.predict(X_test))*100:.2f}%')"
   ]
  },
  {
   "cell_type": "markdown",
   "metadata": {
    "papermill": {
     "duration": null,
     "end_time": null,
     "exception": null,
     "start_time": null,
     "status": "pending"
    },
    "tags": []
   },
   "source": [
    "Again with very little hyper-parameter tuning, I am able to get a **Training Accuracy of 90% and Testing Accuracy of 89%**"
   ]
  },
  {
   "cell_type": "code",
   "execution_count": null,
   "metadata": {
    "_kg_hide-input": true,
    "papermill": {
     "duration": null,
     "end_time": null,
     "exception": null,
     "start_time": null,
     "status": "pending"
    },
    "tags": []
   },
   "outputs": [],
   "source": [
    "trace = go.Bar(x = list(classifier_rf.feature_importances_), y = list(X_train.columns),orientation='h')\n",
    "fig = go.Figure([trace])\n",
    "fig.update_layout(template = 'simple_white',margin=dict(l=80, r=80, t=50, b=10),\n",
    "                  title = { 'text' : '<b>Feature Importance</b>', 'x' : 0.5},\n",
    "                 font_family = 'Fira Code',title_font_color= '#00b300',\n",
    "                 yaxis_title = '<b>Features</b>',xaxis_title = '<b>Gini Importance</b>')\n",
    "\n",
    "iplot(fig)"
   ]
  },
  {
   "cell_type": "markdown",
   "metadata": {
    "papermill": {
     "duration": null,
     "end_time": null,
     "exception": null,
     "start_time": null,
     "status": "pending"
    },
    "tags": []
   },
   "source": [
    "Again, even in the randomforest classifier, the most important feature is the year of mission launch followed by the Company name."
   ]
  },
  {
   "cell_type": "markdown",
   "metadata": {
    "papermill": {
     "duration": null,
     "end_time": null,
     "exception": null,
     "start_time": null,
     "status": "pending"
    },
    "tags": []
   },
   "source": [
    "<div class=\"alert alert-block alert-info\">\n",
    "    <b>Thank You:</b> <p>In case you liked this kernel,please do upvote. Thank You again\n",
    "</div>"
   ]
  }
 ],
 "metadata": {
  "kernelspec": {
   "display_name": "Python 3",
   "language": "python",
   "name": "python3"
  },
  "language_info": {
   "codemirror_mode": {
    "name": "ipython",
    "version": 3
   },
   "file_extension": ".py",
   "mimetype": "text/x-python",
   "name": "python",
   "nbconvert_exporter": "python",
   "pygments_lexer": "ipython3",
   "version": "3.7.6"
  },
  "papermill": {
   "duration": 158.180251,
   "end_time": "2023-08-17T05:26:39.893399",
   "environment_variables": {},
   "exception": true,
   "input_path": "__notebook__.ipynb",
   "output_path": "__notebook__.ipynb",
   "parameters": {},
   "start_time": "2023-08-17T05:24:01.713148",
   "version": "2.1.0"
  }
 },
 "nbformat": 4,
 "nbformat_minor": 4
}
